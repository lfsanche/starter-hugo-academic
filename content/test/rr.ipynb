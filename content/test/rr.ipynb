{
 "cells": [
  {
   "cell_type": "code",
   "execution_count": 1,
   "metadata": {},
   "outputs": [
    {
     "ename": "ERROR",
     "evalue": "Error in ggplot(penguins, aes(bill_length_mm, bill_depth_mm, color = species)): could not find function \"ggplot\"\n",
     "output_type": "error",
     "traceback": [
      "Error in ggplot(penguins, aes(bill_length_mm, bill_depth_mm, color = species)): could not find function \"ggplot\"\nTraceback:\n"
     ]
    }
   ],
   "source": [
    "plot <- ggplot(penguins, aes(bill_length_mm, bill_depth_mm, color = species)) +\n",
    "          geom_point() +\n",
    "          theme_bw()\n",
    "ggplotly(plot)"
   ]
  },
  {
   "cell_type": "code",
   "execution_count": null,
   "metadata": {},
   "outputs": [],
   "source": []
  }
 ],
 "metadata": {
  "kernelspec": {
   "display_name": "R",
   "language": "R",
   "name": "ir"
  },
  "language_info": {
   "codemirror_mode": "r",
   "file_extension": ".r",
   "mimetype": "text/x-r-source",
   "name": "R",
   "pygments_lexer": "r",
   "version": "4.1.1"
  },
  "orig_nbformat": 4
 },
 "nbformat": 4,
 "nbformat_minor": 2
}
